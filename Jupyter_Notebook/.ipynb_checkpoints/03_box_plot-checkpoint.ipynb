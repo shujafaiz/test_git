{
 "cells": [
  {
   "cell_type": "code",
   "execution_count": null,
   "id": "8b36ef87",
   "metadata": {},
   "outputs": [],
   "source": [
    "#import library\n",
    "import seaborn\n",
    "# set canvas (baloon board)\n",
    "seaborn.set(style=\"whitegrid\")\n",
    "\n",
    "kashti = seaborn.load_dataset(\"titanic\")\n",
    "seaborn.boxplot(x=\"class\", y=\"fare\", data=kashti)"
   ]
  },
  {
   "cell_type": "code",
   "execution_count": null,
   "id": "1d6b2ac6",
   "metadata": {},
   "outputs": [],
   "source": [
    "#import library\n",
    "import seaborn\n",
    "import pandas\n",
    "import matplotlib.pyplot as plt\n",
    "# set canvas (baloon board)\n",
    "seaborn.set(style=\"whitegrid\")\n",
    "\n",
    "tip = seaborn.load_dataset(\"tips\")\n",
    "seaborn.boxplot(x=\"day\", y=\"tip\", data=tip, saturation=1)"
   ]
  },
  {
   "cell_type": "code",
   "execution_count": null,
   "id": "fbe9c90f",
   "metadata": {},
   "outputs": [],
   "source": [
    "#import library\n",
    "import seaborn as sns\n",
    "import pandas as pd\n",
    "import matplotlib.pyplot as plt\n",
    "import numpy as np\n",
    "\n",
    "# set canvas (baloon board)\n",
    "seaborn.set(style=\"whitegrid\")\n",
    "\n",
    "tip = seaborn.load_dataset(\"tips\")\n",
    "tip.describe()"
   ]
  },
  {
   "cell_type": "code",
   "execution_count": null,
   "id": "57f86cd7",
   "metadata": {},
   "outputs": [],
   "source": [
    "#import library\n",
    "import seaborn as sns\n",
    "import pandas as pd\n",
    "import matplotlib.pyplot as plt\n",
    "import numpy as np\n",
    "\n",
    "# set canvas (baloon board)\n",
    "seaborn.set(style=\"whitegrid\")\n",
    "\n",
    "tip = sns.load_dataset(\"tips\")\n",
    "seaborn.boxplot(x = tip[\"total_bill\"])\n",
    "seaborn.boxplot(y = tip[\"tip\"])"
   ]
  },
  {
   "cell_type": "code",
   "execution_count": null,
   "id": "7070d2a9",
   "metadata": {},
   "outputs": [],
   "source": [
    "#import library\n",
    "import seaborn as sns\n",
    "import pandas as pd\n",
    "import matplotlib.pyplot as plt\n",
    "import numpy as np\n",
    "\n",
    "# set canvas (baloon board)\n",
    "sns.set(style=\"whitegrid\")\n",
    "\n",
    "tip = sns.load_dataset(\"tips\")\n",
    "sns.boxplot(x =\"tip\", y=\"day\", hue=\"smoker\", data=tip, palette=\"Set2\", dodge=True)"
   ]
  },
  {
   "cell_type": "code",
   "execution_count": 2,
   "id": "4efc058a",
   "metadata": {},
   "outputs": [
    {
     "data": {
      "text/plain": [
       "<AxesSubplot:xlabel='survived', ylabel='age'>"
      ]
     },
     "execution_count": 2,
     "metadata": {},
     "output_type": "execute_result"
    },
    {
     "data": {
      "image/png": "[encoded data removed]",
      "text/plain": [
       "<Figure size 432x288 with 1 Axes>"
      ]
     },
     "metadata": {
      "needs_background": "light"
     },
     "output_type": "display_data"
    }
   ],
   "source": [
    "import seaborn as sns\n",
    "import pandas as pd\n",
    "import numpy as np\n",
    "import matplotlib.pyplot as plt\n",
    "\n",
    "kashti = sns.load_dataset(\"titanic\")\n",
    "kashti.head() # for first 5 rows\n",
    "sns.boxplot(x= \"survived\", y=\"age\", data=kashti)"
   ]
  },
  {
   "cell_type": "code",
   "execution_count": 3,
   "id": "4552a5fd",
   "metadata": {},
   "outputs": [
    {
     "data": {
      "text/plain": [
       "<AxesSubplot:xlabel='survived', ylabel='age'>"
      ]
     },
     "execution_count": 3,
     "metadata": {},
     "output_type": "execute_result"
    },
    {
     "data": {
      "image/png": "[encoded data removed]",
      "text/plain": [
       "<Figure size 432x288 with 1 Axes>"
      ]
     },
     "metadata": {
      "needs_background": "light"
     },
     "output_type": "display_data"
    }
   ],
   "source": [
    "sns.boxplot(x= \"survived\", y=\"age\", showmeans=True, data=kashti)"
   ]
  },
  {
   "cell_type": "code",
   "execution_count": 8,
   "id": "3b53c9ad",
   "metadata": {},
   "outputs": [
    {
     "data": {
      "image/png": "[encoded data removed]",
      "text/plain": [
       "<Figure size 432x288 with 1 Axes>"
      ]
     },
     "metadata": {
      "needs_background": "light"
     },
     "output_type": "display_data"
    }
   ],
   "source": [
    "\n",
    "\n",
    "sns.boxplot(x= \"survived\", y=\"age\", showmeans=True,\n",
    "            meanprops={\"marker\":\"*\",\"markersize\":\"12\",\"markeredgecolor\":\"red\"},\n",
    "            data=kashti)\n",
    "\n",
    "plt.xlabel(\"How Many Survived\",size = 10, weight=\"bold\")\n",
    "plt.ylabel(\"Age(Years)\"),\n",
    "plt.title(\"Box Plot of Kitnay dobay kitnay bachay\")\n",
    "plt.show()"
   ]
  },
  {
   "cell_type": "code",
   "execution_count": null,
   "id": "5c4c7ac4",
   "metadata": {},
   "outputs": [],
   "source": []
  }
 ],
 "metadata": {
  "kernelspec": {
   "display_name": "Python 3 (ipykernel)",
   "language": "python",
   "name": "python3"
  },
  "language_info": {
   "codemirror_mode": {
    "name": "ipython",
    "version": 3
   },
   "file_extension": ".py",
   "mimetype": "text/x-python",
   "name": "python",
   "nbconvert_exporter": "python",
   "pygments_lexer": "ipython3",
   "version": "3.9.7"
  }
 },
 "nbformat": 4,
 "nbformat_minor": 5
}
