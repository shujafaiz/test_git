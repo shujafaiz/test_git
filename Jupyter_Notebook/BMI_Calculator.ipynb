{
 "cells": [
  {
   "cell_type": "code",
   "execution_count": null,
   "id": "01bcb4af",
   "metadata": {},
   "outputs": [],
   "source": [
    "# body mass index(BMI)\n",
    "# input weight\n",
    "# height\n",
    "# BMI (Ask your Height)\n",
    "# weight\n",
    "# calculate BMI\n",
    "# print BMI"
   ]
  },
  {
   "cell_type": "code",
   "execution_count": 5,
   "id": "83fd0a09",
   "metadata": {},
   "outputs": [
    {
     "name": "stdout",
     "output_type": "stream",
     "text": [
      "What is your height ?1.74\n"
     ]
    }
   ],
   "source": [
    "height = input(\"What is your height ?\")"
   ]
  },
  {
   "cell_type": "code",
   "execution_count": 6,
   "id": "346cfa15",
   "metadata": {},
   "outputs": [],
   "source": [
    "height = float(height)"
   ]
  },
  {
   "cell_type": "code",
   "execution_count": 7,
   "id": "fb781195",
   "metadata": {},
   "outputs": [
    {
     "name": "stdout",
     "output_type": "stream",
     "text": [
      "What is your weight ?90\n"
     ]
    }
   ],
   "source": [
    "weight = input(\"What is your weight ?\")\n"
   ]
  },
  {
   "cell_type": "code",
   "execution_count": 8,
   "id": "4ffc3199",
   "metadata": {},
   "outputs": [],
   "source": [
    "weight = float(weight)"
   ]
  },
  {
   "cell_type": "code",
   "execution_count": 3,
   "id": "d956b115",
   "metadata": {},
   "outputs": [
    {
     "name": "stdout",
     "output_type": "stream",
     "text": [
      "What is your name ? Shuja Tahir\n"
     ]
    }
   ],
   "source": [
    "name = input(\"What is your name ? \")"
   ]
  },
  {
   "cell_type": "code",
   "execution_count": 9,
   "id": "37d1fb5f",
   "metadata": {},
   "outputs": [
    {
     "data": {
      "text/plain": [
       "29.72651605231867"
      ]
     },
     "execution_count": 9,
     "metadata": {},
     "output_type": "execute_result"
    }
   ],
   "source": [
    "BMI = weight/height**2\n",
    "BMI"
   ]
  },
  {
   "cell_type": "code",
   "execution_count": 10,
   "id": "b273207a",
   "metadata": {},
   "outputs": [
    {
     "name": "stdout",
     "output_type": "stream",
     "text": [
      "My name is  Shuja Tahir and my BMI is  29.72651605231867\n"
     ]
    }
   ],
   "source": [
    "print(\"My name is \", name, \"and my BMI is \" ,BMI)"
   ]
  },
  {
   "cell_type": "code",
   "execution_count": null,
   "id": "6a040eb9",
   "metadata": {},
   "outputs": [],
   "source": []
  }
 ],
 "metadata": {
  "kernelspec": {
   "display_name": "Python 3 (ipykernel)",
   "language": "python",
   "name": "python3"
  },
  "language_info": {
   "codemirror_mode": {
    "name": "ipython",
    "version": 3
   },
   "file_extension": ".py",
   "mimetype": "text/x-python",
   "name": "python",
   "nbconvert_exporter": "python",
   "pygments_lexer": "ipython3",
   "version": "3.9.7"
  }
 },
 "nbformat": 4,
 "nbformat_minor": 5
}
